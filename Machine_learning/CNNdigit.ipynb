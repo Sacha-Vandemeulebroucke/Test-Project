{
 "cells": [
  {
   "metadata": {
    "ExecuteTime": {
     "end_time": "2025-02-12T08:39:43.509265Z",
     "start_time": "2025-02-12T08:39:43.506048Z"
    }
   },
   "cell_type": "code",
   "source": [
    "import random\n",
    "a = [\"Alice\", \"Benjamin\", \"Chloé\", \"Benjamin\", \"Emma\", \"Benjamin\", \"Gabrielle\", \"Hugo\", \"Inès\", \"Jules\"]\n",
    "# b = random.choice(a)"
   ],
   "id": "c67e2453614345d",
   "outputs": [],
   "execution_count": 191
  },
  {
   "metadata": {
    "ExecuteTime": {
     "end_time": "2025-02-12T08:39:43.529878Z",
     "start_time": "2025-02-12T08:39:43.522841Z"
    }
   },
   "cell_type": "code",
   "source": [
    "la = []\n",
    "b = random.choice(a)\n",
    "la.append(b)\n",
    "print(b)\n",
    "print(la)\n",
    "while len(la) != 6:\n",
    "    b = random.choice(a)\n",
    "    if b in la:\n",
    "        continue\n",
    "    else:\n",
    "        la.append(b)\n",
    "\n",
    "    print(la)"
   ],
   "id": "b95f9796da130f7a",
   "outputs": [
    {
     "name": "stdout",
     "output_type": "stream",
     "text": [
      "Inès\n",
      "['Inès']\n",
      "['Inès', 'Gabrielle']\n",
      "['Inès', 'Gabrielle', 'Hugo']\n",
      "['Inès', 'Gabrielle', 'Hugo', 'Benjamin']\n",
      "['Inès', 'Gabrielle', 'Hugo', 'Benjamin', 'Alice']\n",
      "['Inès', 'Gabrielle', 'Hugo', 'Benjamin', 'Alice', 'Emma']\n"
     ]
    }
   ],
   "execution_count": 192
  }
 ],
 "metadata": {
  "kernelspec": {
   "display_name": "Python 3",
   "language": "python",
   "name": "python3"
  },
  "language_info": {
   "codemirror_mode": {
    "name": "ipython",
    "version": 2
   },
   "file_extension": ".py",
   "mimetype": "text/x-python",
   "name": "python",
   "nbconvert_exporter": "python",
   "pygments_lexer": "ipython2",
   "version": "2.7.6"
  }
 },
 "nbformat": 4,
 "nbformat_minor": 5
}
